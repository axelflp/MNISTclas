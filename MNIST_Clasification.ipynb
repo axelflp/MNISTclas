{
  "cells": [
    {
      "cell_type": "code",
      "execution_count": null,
      "metadata": {
        "id": "_7kRRa_c35Eh"
      },
      "outputs": [],
      "source": [
        "# importamos librerías\n",
        "import numpy as np\n",
        "import random\n",
        "from sklearn.datasets import fetch_openml\n",
        "from sklearn.model_selection import train_test_split\n",
        "from sklearn.preprocessing import OneHotEncoder\n",
        "import matplotlib.pyplot as plt"
      ]
    },
    {
      "cell_type": "code",
      "execution_count": null,
      "metadata": {
        "colab": {
          "base_uri": "https://localhost:8080/"
        },
        "id": "NrCb56nF39y7",
        "outputId": "54631fc2-9233-459a-f306-bfd6ebd53d5b"
      },
      "outputs": [
        {
          "output_type": "stream",
          "name": "stderr",
          "text": [
            "/usr/local/lib/python3.10/dist-packages/sklearn/datasets/_openml.py:968: FutureWarning: The default value of `parser` will change from `'liac-arff'` to `'auto'` in 1.4. You can set `parser='auto'` to silence this warning. Therefore, an `ImportError` will be raised from 1.4 if the dataset is dense and pandas is not installed. Note that the pandas parser may return different data types. See the Notes Section in fetch_openml's API doc for details.\n",
            "  warn(\n"
          ]
        }
      ],
      "source": [
        "# cargamos datos de mnist\n",
        "mnist = fetch_openml(\"mnist_784\")\n",
        "X, y = mnist.data, mnist.target.astype(int)"
      ]
    },
    {
      "cell_type": "code",
      "execution_count": null,
      "metadata": {
        "id": "w7X4wSA74ErM"
      },
      "outputs": [],
      "source": [
        "# normalizamos los datos y dividimos en conjuntos de entrenamiento y prueba\n",
        "X = X / 255.0\n",
        "X_train, X_test, y_train, y_test = train_test_split(X, y, test_size=0.2, random_state=42)\n",
        "\n",
        "X_train, X_test, y_train, y_test = X_train.to_numpy(), X_test.to_numpy(), y_train.to_numpy(), y_test.to_numpy()"
      ]
    },
    {
      "cell_type": "code",
      "source": [
        "tamanio_inp = X_train.shape[1]"
      ],
      "metadata": {
        "id": "82hgCKR19e1a"
      },
      "execution_count": null,
      "outputs": []
    },
    {
      "cell_type": "code",
      "source": [
        "y_train = y_train.reshape(-1, 1) # Se redimensiona para que sea un vector columna\n",
        "y_test = y_test.reshape(-1, 1)\n",
        "\n",
        "\n",
        "# Crear el codificador one-hot\n",
        "encoder = OneHotEncoder(sparse=False) # sparse=False para obtener una matriz densa\n",
        "\n",
        "# Ajustar y transformar los datos\n",
        "y_train_hot = encoder.fit_transform(y_train)\n",
        "y_test_hot = encoder.transform(y_test)"
      ],
      "metadata": {
        "colab": {
          "base_uri": "https://localhost:8080/"
        },
        "id": "HtXMa4Os9eyE",
        "outputId": "482a7b68-bc2e-43e1-f2a9-2141003faa00"
      },
      "execution_count": null,
      "outputs": [
        {
          "output_type": "stream",
          "name": "stderr",
          "text": [
            "/usr/local/lib/python3.10/dist-packages/sklearn/preprocessing/_encoders.py:868: FutureWarning: `sparse` was renamed to `sparse_output` in version 1.2 and will be removed in 1.4. `sparse_output` is ignored unless you leave `sparse` to its default value.\n",
            "  warnings.warn(\n"
          ]
        }
      ]
    },
    {
      "cell_type": "code",
      "source": [
        "data_train = np.hstack((X_train, y_train_hot))\n",
        "data_test = np.hstack((X_test, y_test_hot))"
      ],
      "metadata": {
        "id": "NNIaTLeE9esQ"
      },
      "execution_count": null,
      "outputs": []
    },
    {
      "cell_type": "code",
      "execution_count": null,
      "metadata": {
        "id": "UgaeD3d94T3R"
      },
      "outputs": [],
      "source": [
        "# definimos dimensiones\n",
        "input_size = tamanio_inp\n",
        "hidden_size_1 = 100\n",
        "hidden_size_2 = 50\n",
        "output_size = 10"
      ]
    },
    {
      "cell_type": "code",
      "execution_count": null,
      "metadata": {
        "id": "de17CDhs4ZSF"
      },
      "outputs": [],
      "source": [
        "model_weights = dict()\n",
        "\n",
        "# inicializamos parametros\n",
        "np.random.seed(0)\n",
        "\n",
        "model_weights[\"W_1\"] = np.random.randn(input_size, hidden_size_1)*np.sqrt(2./(input_size+hidden_size_1))\n",
        "model_weights[\"b_1\"] = np.zeros((1, hidden_size_1))\n",
        "model_weights[\"W_2\"] = np.random.randn(hidden_size_1, hidden_size_2)*np.sqrt(2./(hidden_size_1+hidden_size_2))\n",
        "model_weights[\"b_2\"] = np.zeros((1, hidden_size_2))\n",
        "model_weights[\"W_3\"] = np.random.randn(hidden_size_2, output_size)*np.sqrt(2./(hidden_size_2+output_size))\n",
        "model_weights[\"b_3\"] = np.zeros((1, output_size))\n",
        "\n",
        "# hiperparámetros\n",
        "learning_rate = 1e-3\n",
        "epochs = 10\n",
        "batch_size = 256"
      ]
    },
    {
      "cell_type": "code",
      "execution_count": null,
      "metadata": {
        "id": "CO4A2-fM4jhR"
      },
      "outputs": [],
      "source": [
        "# funcion de costo\n",
        "def compute_loss(y, y_pred):\n",
        "    return -(y*np.log(y_pred)).sum()"
      ]
    },
    {
      "cell_type": "code",
      "execution_count": null,
      "metadata": {
        "id": "zCKI_8uDBM0v"
      },
      "outputs": [],
      "source": [
        "def softMax(x):\n",
        "    x0 = np.exp(x)\n",
        "    return x0/(x0.sum(axis=1, keepdims=True))\n",
        "\n",
        "\n",
        "def ReLu(x):\n",
        "    return np.maximum(0., x)\n",
        "def ReLu_derivative(x):\n",
        "    return np.where(x > 0., 1., 0.)\n",
        "\n",
        "\n",
        "def sigmoid(z):\n",
        "    return 1 / (1 + np.exp(-z))\n",
        "def sigmoid_derivative(z):\n",
        "    return sigmoid(z) * (1 - sigmoid(z))"
      ]
    },
    {
      "cell_type": "code",
      "source": [
        "def forward(pesos, input, memoria):\n",
        "    memoria[\"z_1\"] = input @ pesos[\"W_1\"] + pesos[\"b_1\"]\n",
        "    memoria[\"y_1\"] = ReLu(memoria[\"z_1\"])\n",
        "    memoria[\"z_2\"] = memoria[\"y_1\"] @ pesos[\"W_2\"] + pesos[\"b_2\"]\n",
        "    memoria[\"y_2\"] = ReLu(memoria[\"z_2\"])\n",
        "    memoria[\"z_3\"] = memoria[\"y_2\"] @ pesos[\"W_3\"] + pesos[\"b_3\"]\n",
        "    return softMax(memoria[\"z_3\"])\n",
        "\n",
        "def backpropagation(pesos, lr, y_pred, input, target, memoria):\n",
        "\n",
        "    grad_loss_y_pred = y_pred - target\n",
        "\n",
        "    # Gradientes para W3 y b3\n",
        "    grad_b3 = np.sum(grad_loss_y_pred, axis=0)\n",
        "    grad_W3 = memoria[\"y_2\"].T @ grad_loss_y_pred\n",
        "\n",
        "    # Gradientes para W2 y b2\n",
        "    aux2 = grad_loss_y_pred @ pesos[\"W_3\"].T\n",
        "    delta_2 = aux2 * ReLu_derivative(memoria[\"z_2\"])\n",
        "\n",
        "    grad_b2 = np.sum(delta_2, axis=0)\n",
        "    grad_W2 = memoria[\"y_1\"].T @ delta_2\n",
        "\n",
        "    # Gradientes para W1 y b1\n",
        "    aux1 = delta_2 @ pesos[\"W_2\"].T\n",
        "    delta_1 = aux1 * ReLu_derivative(memoria[\"z_1\"])\n",
        "\n",
        "    grad_b1 = np.sum(delta_1, axis=0)\n",
        "    grad_W1 = input.T @ delta_1\n",
        "\n",
        "    # Actualización de parámetros con descenso de gradiente\n",
        "    pesos[\"W_3\"] -= lr * grad_W3\n",
        "    pesos[\"b_3\"] -= lr * grad_b3\n",
        "    pesos[\"W_2\"] -= lr * grad_W2\n",
        "    pesos[\"b_2\"] -= lr * grad_b2\n",
        "    pesos[\"W_1\"] -= lr * grad_W1\n",
        "    pesos[\"b_1\"] -= lr * grad_b1"
      ],
      "metadata": {
        "id": "kwDgqv4yVxWE"
      },
      "execution_count": null,
      "outputs": []
    },
    {
      "cell_type": "code",
      "execution_count": null,
      "metadata": {
        "colab": {
          "base_uri": "https://localhost:8080/"
        },
        "id": "umZrJB7h1tRC",
        "outputId": "b09001e5-66f5-41d1-c951-63f4da6a72db"
      },
      "outputs": [
        {
          "output_type": "stream",
          "name": "stdout",
          "text": [
            "Epoch 1, Loss: 125.32624006725982\n",
            "Epoch 2, Loss: 51.62705847582255\n",
            "Epoch 3, Loss: 38.29614457499372\n",
            "Epoch 4, Loss: 30.23010964916245\n",
            "Epoch 5, Loss: 24.940386802219955\n",
            "Epoch 6, Loss: 21.750747254350152\n",
            "Epoch 7, Loss: 18.896297748529616\n",
            "Epoch 8, Loss: 16.529008656855083\n",
            "Epoch 9, Loss: 14.586955404461062\n",
            "Epoch 10, Loss: 12.851954089488801\n"
          ]
        }
      ],
      "source": [
        "memoria = dict()\n",
        "\n",
        "# entrenamiento\n",
        "for epoch in range(epochs):\n",
        "    np.random.shuffle(data_train)\n",
        "    total_loss = 0\n",
        "    for i in range(batch_size, data_train.shape[0]+1, batch_size):\n",
        "        # lote de datos\n",
        "        batch_X = data_train[i-batch_size:i, :tamanio_inp]\n",
        "        batch_Y = data_train[i-batch_size:i, tamanio_inp:]\n",
        "\n",
        "        # Forward\n",
        "        y_pred = forward(model_weights, batch_X, memoria)\n",
        "\n",
        "        # calcular pérdida\n",
        "        loss = compute_loss(batch_Y, y_pred)\n",
        "        total_loss += loss\n",
        "\n",
        "        # Backpropagation\n",
        "        backpropagation(model_weights, learning_rate, y_pred, batch_X, batch_Y, memoria)\n",
        "\n",
        "    # calcular la pérdida promedio por época\n",
        "    avg_loss = total_loss / (data_train.shape[0] // batch_size)\n",
        "\n",
        "    # avance\n",
        "    print(f\"Epoch {epoch + 1}, Loss: {avg_loss}\")"
      ]
    },
    {
      "cell_type": "code",
      "source": [
        "def prediccion(pesos, input):\n",
        "  z_1 = input @ pesos[\"W_1\"] + pesos[\"b_1\"]\n",
        "  y_1 = ReLu(z_1)\n",
        "  z_2 = y_1 @ pesos[\"W_2\"] + pesos[\"b_2\"]\n",
        "  y_2 = ReLu(z_2)\n",
        "  z_3 = y_2 @ pesos[\"W_3\"] + pesos[\"b_3\"]\n",
        "  y_pred = softMax(z_3)\n",
        "  return np.argmax(y_pred, axis=1)\n",
        "\n",
        "def mostrar(idx, data, pesos):\n",
        "  data_X = data_test[idx,:tamanio_inp]\n",
        "  data_Y = data_test[idx,tamanio_inp:]\n",
        "  img_reshaped = data_X.reshape(28, 28)\n",
        "\n",
        "  pred = prediccion(pesos, data_X)\n",
        "\n",
        "  # Mostrar la imagen\n",
        "  plt.imshow(img_reshaped, cmap='gray')  # Usar cmap='gray' para escala de grises\n",
        "  plt.title(f\"Prediccion: {pred.item()}\")\n",
        "  plt.show()"
      ],
      "metadata": {
        "id": "LDDEyF9CWZji"
      },
      "execution_count": null,
      "outputs": []
    },
    {
      "cell_type": "code",
      "source": [
        "batch_X_t = data_test[:,:tamanio_inp]\n",
        "batch_Y_t = data_test[:,tamanio_inp:]\n",
        "\n",
        "predicciones = prediccion(model_weights, batch_X_t)\n",
        "reales = np.argmax(batch_Y_t, axis=1)"
      ],
      "metadata": {
        "id": "zqqUeXrOKOdj"
      },
      "execution_count": null,
      "outputs": []
    },
    {
      "cell_type": "code",
      "source": [
        "print( f\"Porcentaje de datos clasificados correctamente en el conjunto de test {np.sum(reales == predicciones)/batch_Y_t.shape[0]}\")"
      ],
      "metadata": {
        "colab": {
          "base_uri": "https://localhost:8080/"
        },
        "id": "pZuyHBtMUnkS",
        "outputId": "d0362805-3508-49f9-ed90-eb37ddd89168"
      },
      "execution_count": null,
      "outputs": [
        {
          "output_type": "stream",
          "name": "stdout",
          "text": [
            "Porcentaje de datos clasificados correctamente en el conjunto de test 0.973\n"
          ]
        }
      ]
    },
    {
      "cell_type": "markdown",
      "source": [
        "# Predicciones"
      ],
      "metadata": {
        "id": "yHcPBHvFJ7Ew"
      }
    },
    {
      "cell_type": "code",
      "execution_count": null,
      "metadata": {
        "id": "gpFRnRMA8EOP",
        "colab": {
          "base_uri": "https://localhost:8080/",
          "height": 452
        },
        "outputId": "e5b50270-e264-4aa6-c5df-b07c90265c8e"
      },
      "outputs": [
        {
          "output_type": "display_data",
          "data": {
            "text/plain": [
              "<Figure size 640x480 with 1 Axes>"
            ],
            "image/png": "[encoded data removed]"
          },
          "metadata": {}
        }
      ],
      "source": [
        "mostrar(135, data_test, model_weights)"
      ]
    },
    {
      "cell_type": "code",
      "execution_count": null,
      "metadata": {
        "id": "-gm0Vih-8EOR",
        "colab": {
          "base_uri": "https://localhost:8080/",
          "height": 452
        },
        "outputId": "9559ef6f-b10d-4c5f-adb0-28b3fa5ffa87"
      },
      "outputs": [
        {
          "output_type": "display_data",
          "data": {
            "text/plain": [
              "<Figure size 640x480 with 1 Axes>"
            ],
            "image/png": "[encoded data removed]"
          },
          "metadata": {}
        }
      ],
      "source": [
        "mostrar(235, data_test, model_weights)"
      ]
    },
    {
      "cell_type": "code",
      "source": [
        "mostrar(86, data_test, model_weights)"
      ],
      "metadata": {
        "id": "0J6B3idPbbBt",
        "outputId": "07c84c38-b713-481c-c9ad-d7f1818da399",
        "colab": {
          "base_uri": "https://localhost:8080/",
          "height": 452
        }
      },
      "execution_count": null,
      "outputs": [
        {
          "output_type": "display_data",
          "data": {
            "text/plain": [
              "<Figure size 640x480 with 1 Axes>"
            ],
            "image/png": "[encoded data removed]"
          },
          "metadata": {}
        }
      ]
    },
    {
      "cell_type": "code",
      "source": [],
      "metadata": {
        "id": "dPGOzgVXbdGP"
      },
      "execution_count": null,
      "outputs": []
    }
  ],
  "metadata": {
    "colab": {
      "provenance": []
    },
    "kernelspec": {
      "display_name": "Python 3 (ipykernel)",
      "language": "python",
      "name": "python3"
    },
    "language_info": {
      "codemirror_mode": {
        "name": "ipython",
        "version": 3
      },
      "file_extension": ".py",
      "mimetype": "text/x-python",
      "name": "python",
      "nbconvert_exporter": "python",
      "pygments_lexer": "ipython3",
      "version": "3.12.2"
    }
  },
  "nbformat": 4,
  "nbformat_minor": 0
}